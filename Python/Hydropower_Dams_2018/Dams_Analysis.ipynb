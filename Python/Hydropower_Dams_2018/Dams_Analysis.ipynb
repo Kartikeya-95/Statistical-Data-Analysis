{
 "cells": [
  {
   "cell_type": "code",
   "execution_count": 1,
   "metadata": {},
   "outputs": [],
   "source": [
    "import pandas as pd\n",
    "import numpy as np\n",
    "import matplotlib.pyplot as plt\n",
    "import seaborn as sns\n",
    "%matplotlib inline\n",
    "\n",
    "import warnings\n",
    "warnings.filterwarnings('ignore')"
   ]
  },
  {
   "cell_type": "code",
   "execution_count": 2,
   "metadata": {},
   "outputs": [],
   "source": [
    "data = pd.read_csv('../../DataSets/West_Africa_And_India_Dams_2018/Cleaned_Data.csv')"
   ]
  },
  {
   "cell_type": "code",
   "execution_count": 3,
   "metadata": {},
   "outputs": [
    {
     "data": {
      "text/html": [
       "<div>\n",
       "<style scoped>\n",
       "    .dataframe tbody tr th:only-of-type {\n",
       "        vertical-align: middle;\n",
       "    }\n",
       "\n",
       "    .dataframe tbody tr th {\n",
       "        vertical-align: top;\n",
       "    }\n",
       "\n",
       "    .dataframe thead th {\n",
       "        text-align: right;\n",
       "    }\n",
       "</style>\n",
       "<table border=\"1\" class=\"dataframe\">\n",
       "  <thead>\n",
       "    <tr style=\"text-align: right;\">\n",
       "      <th></th>\n",
       "      <th>Country</th>\n",
       "      <th>ISO</th>\n",
       "      <th>Dam Name</th>\n",
       "      <th>Dam Purpose</th>\n",
       "      <th>Admin Unit(State)</th>\n",
       "      <th>Nearest City</th>\n",
       "      <th>River</th>\n",
       "      <th>Operational Since Year</th>\n",
       "      <th>PhotoVoltic Surface[MW]</th>\n",
       "      <th>Dam Height (meters)</th>\n",
       "      <th>Reservoir Capacity (million cubic meters)</th>\n",
       "      <th>Reservoir Area (square km)</th>\n",
       "    </tr>\n",
       "  </thead>\n",
       "  <tbody>\n",
       "    <tr>\n",
       "      <th>0</th>\n",
       "      <td>India</td>\n",
       "      <td>IND</td>\n",
       "      <td>Thonnur</td>\n",
       "      <td>Irrigation</td>\n",
       "      <td>Karnataka</td>\n",
       "      <td>Mysore</td>\n",
       "      <td>Thonnur Halla</td>\n",
       "      <td>1000</td>\n",
       "      <td>31.20</td>\n",
       "      <td>24.38</td>\n",
       "      <td>12.460</td>\n",
       "      <td>3.120</td>\n",
       "    </tr>\n",
       "    <tr>\n",
       "      <th>1</th>\n",
       "      <td>India</td>\n",
       "      <td>IND</td>\n",
       "      <td>Cumbhum</td>\n",
       "      <td>Irrigation</td>\n",
       "      <td>Andhra Pradesh</td>\n",
       "      <td>Ongole</td>\n",
       "      <td>Gundlakamma</td>\n",
       "      <td>1500</td>\n",
       "      <td>233.27</td>\n",
       "      <td>18.00</td>\n",
       "      <td>105.330</td>\n",
       "      <td>23.327</td>\n",
       "    </tr>\n",
       "    <tr>\n",
       "      <th>2</th>\n",
       "      <td>India</td>\n",
       "      <td>IND</td>\n",
       "      <td>Chandra Prabha</td>\n",
       "      <td>Irrigation</td>\n",
       "      <td>Uttar Pradesh</td>\n",
       "      <td>Varanasi</td>\n",
       "      <td>Chandraprabha</td>\n",
       "      <td>1666</td>\n",
       "      <td>1633.64</td>\n",
       "      <td>20.12</td>\n",
       "      <td>113.267</td>\n",
       "      <td>163.364</td>\n",
       "    </tr>\n",
       "    <tr>\n",
       "      <th>3</th>\n",
       "      <td>India</td>\n",
       "      <td>IND</td>\n",
       "      <td>Rajsamand</td>\n",
       "      <td>Irrigation</td>\n",
       "      <td>Rajasthan</td>\n",
       "      <td>Kankroli</td>\n",
       "      <td>Gomti</td>\n",
       "      <td>1671</td>\n",
       "      <td>77.90</td>\n",
       "      <td>17.80</td>\n",
       "      <td>98.650</td>\n",
       "      <td>7.790</td>\n",
       "    </tr>\n",
       "    <tr>\n",
       "      <th>4</th>\n",
       "      <td>India</td>\n",
       "      <td>IND</td>\n",
       "      <td>Barwa</td>\n",
       "      <td>Irrigation</td>\n",
       "      <td>Uttar Pradesh</td>\n",
       "      <td>Jhansi</td>\n",
       "      <td>Barwa Nala</td>\n",
       "      <td>1694</td>\n",
       "      <td>708.50</td>\n",
       "      <td>21.03</td>\n",
       "      <td>10.200</td>\n",
       "      <td>70.850</td>\n",
       "    </tr>\n",
       "  </tbody>\n",
       "</table>\n",
       "</div>"
      ],
      "text/plain": [
       "  Country  ISO        Dam Name Dam Purpose Admin Unit(State) Nearest City  \\\n",
       "0   India  IND         Thonnur  Irrigation         Karnataka       Mysore   \n",
       "1   India  IND         Cumbhum  Irrigation    Andhra Pradesh       Ongole   \n",
       "2   India  IND  Chandra Prabha  Irrigation     Uttar Pradesh     Varanasi   \n",
       "3   India  IND       Rajsamand  Irrigation         Rajasthan     Kankroli   \n",
       "4   India  IND           Barwa  Irrigation     Uttar Pradesh       Jhansi   \n",
       "\n",
       "           River Operational Since Year  PhotoVoltic Surface[MW]  \\\n",
       "0  Thonnur Halla                   1000                    31.20   \n",
       "1    Gundlakamma                   1500                   233.27   \n",
       "2  Chandraprabha                   1666                  1633.64   \n",
       "3          Gomti                   1671                    77.90   \n",
       "4     Barwa Nala                   1694                   708.50   \n",
       "\n",
       "   Dam Height (meters)  Reservoir Capacity (million cubic meters)  \\\n",
       "0                24.38                                     12.460   \n",
       "1                18.00                                    105.330   \n",
       "2                20.12                                    113.267   \n",
       "3                17.80                                     98.650   \n",
       "4                21.03                                     10.200   \n",
       "\n",
       "   Reservoir Area (square km)  \n",
       "0                       3.120  \n",
       "1                      23.327  \n",
       "2                     163.364  \n",
       "3                       7.790  \n",
       "4                      70.850  "
      ]
     },
     "execution_count": 3,
     "metadata": {},
     "output_type": "execute_result"
    }
   ],
   "source": [
    "data.head()"
   ]
  },
  {
   "cell_type": "markdown",
   "metadata": {},
   "source": [
    "<h2> Performing Analysis </h2>"
   ]
  },
  {
   "cell_type": "code",
   "execution_count": 4,
   "metadata": {},
   "outputs": [
    {
     "data": {
      "text/html": [
       "<div>\n",
       "<style scoped>\n",
       "    .dataframe tbody tr th:only-of-type {\n",
       "        vertical-align: middle;\n",
       "    }\n",
       "\n",
       "    .dataframe tbody tr th {\n",
       "        vertical-align: top;\n",
       "    }\n",
       "\n",
       "    .dataframe thead th {\n",
       "        text-align: right;\n",
       "    }\n",
       "</style>\n",
       "<table border=\"1\" class=\"dataframe\">\n",
       "  <thead>\n",
       "    <tr style=\"text-align: right;\">\n",
       "      <th></th>\n",
       "      <th>PhotoVoltic Surface[MW]</th>\n",
       "      <th>Dam Height (meters)</th>\n",
       "      <th>Reservoir Capacity (million cubic meters)</th>\n",
       "      <th>Reservoir Area (square km)</th>\n",
       "    </tr>\n",
       "  </thead>\n",
       "  <tbody>\n",
       "    <tr>\n",
       "      <th>count</th>\n",
       "      <td>2313.000000</td>\n",
       "      <td>3104.000000</td>\n",
       "      <td>2968.000000</td>\n",
       "      <td>2313.000000</td>\n",
       "    </tr>\n",
       "    <tr>\n",
       "      <th>mean</th>\n",
       "      <td>439.201168</td>\n",
       "      <td>23.316697</td>\n",
       "      <td>85.593114</td>\n",
       "      <td>43.920117</td>\n",
       "    </tr>\n",
       "    <tr>\n",
       "      <th>std</th>\n",
       "      <td>10824.289772</td>\n",
       "      <td>16.216902</td>\n",
       "      <td>515.419902</td>\n",
       "      <td>1082.428977</td>\n",
       "    </tr>\n",
       "    <tr>\n",
       "      <th>min</th>\n",
       "      <td>0.015500</td>\n",
       "      <td>0.710000</td>\n",
       "      <td>0.013520</td>\n",
       "      <td>0.001550</td>\n",
       "    </tr>\n",
       "    <tr>\n",
       "      <th>25%</th>\n",
       "      <td>3.150000</td>\n",
       "      <td>16.000000</td>\n",
       "      <td>1.970000</td>\n",
       "      <td>0.315000</td>\n",
       "    </tr>\n",
       "    <tr>\n",
       "      <th>50%</th>\n",
       "      <td>11.000000</td>\n",
       "      <td>18.995000</td>\n",
       "      <td>4.630000</td>\n",
       "      <td>1.100000</td>\n",
       "    </tr>\n",
       "    <tr>\n",
       "      <th>75%</th>\n",
       "      <td>66.470000</td>\n",
       "      <td>24.400000</td>\n",
       "      <td>18.049500</td>\n",
       "      <td>6.647000</td>\n",
       "    </tr>\n",
       "    <tr>\n",
       "      <th>max</th>\n",
       "      <td>511100.000000</td>\n",
       "      <td>260.500000</td>\n",
       "      <td>9750.000000</td>\n",
       "      <td>51110.000000</td>\n",
       "    </tr>\n",
       "  </tbody>\n",
       "</table>\n",
       "</div>"
      ],
      "text/plain": [
       "       PhotoVoltic Surface[MW]  Dam Height (meters)  \\\n",
       "count              2313.000000          3104.000000   \n",
       "mean                439.201168            23.316697   \n",
       "std               10824.289772            16.216902   \n",
       "min                   0.015500             0.710000   \n",
       "25%                   3.150000            16.000000   \n",
       "50%                  11.000000            18.995000   \n",
       "75%                  66.470000            24.400000   \n",
       "max              511100.000000           260.500000   \n",
       "\n",
       "       Reservoir Capacity (million cubic meters)  Reservoir Area (square km)  \n",
       "count                                2968.000000                 2313.000000  \n",
       "mean                                   85.593114                   43.920117  \n",
       "std                                   515.419902                 1082.428977  \n",
       "min                                     0.013520                    0.001550  \n",
       "25%                                     1.970000                    0.315000  \n",
       "50%                                     4.630000                    1.100000  \n",
       "75%                                    18.049500                    6.647000  \n",
       "max                                  9750.000000                51110.000000  "
      ]
     },
     "execution_count": 4,
     "metadata": {},
     "output_type": "execute_result"
    }
   ],
   "source": [
    "# Describing numeric columns\n",
    "data.describe()"
   ]
  },
  {
   "cell_type": "code",
   "execution_count": 5,
   "metadata": {},
   "outputs": [
    {
     "data": {
      "text/html": [
       "<div>\n",
       "<style scoped>\n",
       "    .dataframe tbody tr th:only-of-type {\n",
       "        vertical-align: middle;\n",
       "    }\n",
       "\n",
       "    .dataframe tbody tr th {\n",
       "        vertical-align: top;\n",
       "    }\n",
       "\n",
       "    .dataframe thead th {\n",
       "        text-align: right;\n",
       "    }\n",
       "</style>\n",
       "<table border=\"1\" class=\"dataframe\">\n",
       "  <thead>\n",
       "    <tr style=\"text-align: right;\">\n",
       "      <th></th>\n",
       "      <th>Country</th>\n",
       "      <th>ISO</th>\n",
       "      <th>Dam Name</th>\n",
       "      <th>Dam Purpose</th>\n",
       "      <th>Admin Unit(State)</th>\n",
       "      <th>Nearest City</th>\n",
       "      <th>River</th>\n",
       "      <th>Operational Since Year</th>\n",
       "    </tr>\n",
       "  </thead>\n",
       "  <tbody>\n",
       "    <tr>\n",
       "      <th>count</th>\n",
       "      <td>3131</td>\n",
       "      <td>3131</td>\n",
       "      <td>3131</td>\n",
       "      <td>3131</td>\n",
       "      <td>3129</td>\n",
       "      <td>3024</td>\n",
       "      <td>3039</td>\n",
       "      <td>3131</td>\n",
       "    </tr>\n",
       "    <tr>\n",
       "      <th>unique</th>\n",
       "      <td>1</td>\n",
       "      <td>1</td>\n",
       "      <td>3030</td>\n",
       "      <td>3</td>\n",
       "      <td>28</td>\n",
       "      <td>1125</td>\n",
       "      <td>1424</td>\n",
       "      <td>136</td>\n",
       "    </tr>\n",
       "    <tr>\n",
       "      <th>top</th>\n",
       "      <td>India</td>\n",
       "      <td>IND</td>\n",
       "      <td>Bori</td>\n",
       "      <td>Irrigation</td>\n",
       "      <td>Maharashtra</td>\n",
       "      <td>Sidhi</td>\n",
       "      <td>Local Nala</td>\n",
       "      <td>Unknown</td>\n",
       "    </tr>\n",
       "    <tr>\n",
       "      <th>freq</th>\n",
       "      <td>3131</td>\n",
       "      <td>3131</td>\n",
       "      <td>6</td>\n",
       "      <td>2949</td>\n",
       "      <td>1064</td>\n",
       "      <td>28</td>\n",
       "      <td>550</td>\n",
       "      <td>436</td>\n",
       "    </tr>\n",
       "  </tbody>\n",
       "</table>\n",
       "</div>"
      ],
      "text/plain": [
       "       Country   ISO Dam Name Dam Purpose Admin Unit(State) Nearest City  \\\n",
       "count     3131  3131     3131        3131              3129         3024   \n",
       "unique       1     1     3030           3                28         1125   \n",
       "top      India   IND     Bori  Irrigation       Maharashtra        Sidhi   \n",
       "freq      3131  3131        6        2949              1064           28   \n",
       "\n",
       "             River Operational Since Year  \n",
       "count         3039                   3131  \n",
       "unique        1424                    136  \n",
       "top     Local Nala                Unknown  \n",
       "freq           550                    436  "
      ]
     },
     "execution_count": 5,
     "metadata": {},
     "output_type": "execute_result"
    }
   ],
   "source": [
    "# Describing categorical columns\n",
    "data[data.dtypes[data.dtypes == 'object'].index[:]].describe()"
   ]
  },
  {
   "cell_type": "code",
   "execution_count": 10,
   "metadata": {},
   "outputs": [
    {
     "data": {
      "image/png": "[encoded data removed]",
      "text/plain": [
       "<Figure size 720x576 with 1 Axes>"
      ]
     },
     "metadata": {
      "needs_background": "light"
     },
     "output_type": "display_data"
    }
   ],
   "source": [
    "# Checking 10 highest dams\n",
    "data.sort_values(by = 'Dam Height (meters)', ascending = False).head(10)[['Dam Name', 'Dam Height (meters)']].plot(\n",
    "    y = 'Dam Height (meters)', x = 'Dam Name', kind = 'barh', figsize = (10, 8), xticks = np.arange(0,300,25), \n",
    "    legend = False, fontsize = 12)\n",
    "\n",
    "plt.xlabel('Dam Height(meters)', fontsize = 16)\n",
    "plt.ylabel('Dam Names', fontsize = 16)\n",
    "plt.title('10 Highest Dams in India', fontsize = 20)\n",
    "\n",
    "plt.show()"
   ]
  },
  {
   "cell_type": "code",
   "execution_count": 12,
   "metadata": {},
   "outputs": [
    {
     "data": {
      "image/png": "[encoded data removed]",
      "text/plain": [
       "<Figure size 720x576 with 1 Axes>"
      ]
     },
     "metadata": {
      "needs_background": "light"
     },
     "output_type": "display_data"
    }
   ],
   "source": [
    "# Checking 10 dams with maximum Reservoir Capacity\n",
    "data.sort_values(\n",
    "    by = 'Reservoir Capacity (million cubic meters)', ascending = False).head(10)[['Dam Name', 'Reservoir Capacity (million cubic meters)']].plot(\n",
    "    y = 'Reservoir Capacity (million cubic meters)', x = 'Dam Name', kind = 'barh', figsize = (10, 8), \n",
    "    xticks = np.arange(0,10001,1000), legend = False, fontsize = 12)\n",
    "\n",
    "plt.xlabel('Reservoir Capacity (million cubic meters)', fontsize = 16)\n",
    "plt.ylabel('Dam Names', fontsize = 16)\n",
    "plt.title('10 Dams with maximum Reservoir Capacity in India', fontsize = 20)\n",
    "\n",
    "plt.show()"
   ]
  },
  {
   "cell_type": "code",
   "execution_count": 18,
   "metadata": {},
   "outputs": [
    {
     "data": {
      "image/png": "[encoded data removed]",
      "text/plain": [
       "<Figure size 720x576 with 1 Axes>"
      ]
     },
     "metadata": {
      "needs_background": "light"
     },
     "output_type": "display_data"
    }
   ],
   "source": [
    "# Checking 10 dams with maximum Reservoir Area\n",
    "data.sort_values(\n",
    "    by = 'Reservoir Area (square km)', ascending = False).head(10)[['Dam Name', 'Reservoir Area (square km)']].plot(\n",
    "    y = 'Reservoir Area (square km)', x = 'Dam Name', kind = 'barh', figsize = (10, 8), \n",
    "    xticks = np.arange(0,60000,5000), legend = False, fontsize = 12)\n",
    "\n",
    "plt.xlabel('Reservoir Area (square km)', fontsize = 16)\n",
    "plt.ylabel('Dam Names', fontsize = 16)\n",
    "plt.title('10 Dams with maximum Reservoir Area in India', fontsize = 20)\n",
    "\n",
    "plt.show()"
   ]
  },
  {
   "cell_type": "code",
   "execution_count": 27,
   "metadata": {},
   "outputs": [
    {
     "data": {
      "text/html": [
       "<div>\n",
       "<style scoped>\n",
       "    .dataframe tbody tr th:only-of-type {\n",
       "        vertical-align: middle;\n",
       "    }\n",
       "\n",
       "    .dataframe tbody tr th {\n",
       "        vertical-align: top;\n",
       "    }\n",
       "\n",
       "    .dataframe thead th {\n",
       "        text-align: right;\n",
       "    }\n",
       "</style>\n",
       "<table border=\"1\" class=\"dataframe\">\n",
       "  <thead>\n",
       "    <tr style=\"text-align: right;\">\n",
       "      <th></th>\n",
       "      <th>Dam Height (meters)</th>\n",
       "      <th>Reservoir Capacity (million cubic meters)</th>\n",
       "      <th>Reservoir Area (square km)</th>\n",
       "    </tr>\n",
       "  </thead>\n",
       "  <tbody>\n",
       "    <tr>\n",
       "      <th>Dam Height (meters)</th>\n",
       "      <td>1.000000</td>\n",
       "      <td>0.515656</td>\n",
       "      <td>0.002633</td>\n",
       "    </tr>\n",
       "    <tr>\n",
       "      <th>Reservoir Capacity (million cubic meters)</th>\n",
       "      <td>0.515656</td>\n",
       "      <td>1.000000</td>\n",
       "      <td>0.002954</td>\n",
       "    </tr>\n",
       "    <tr>\n",
       "      <th>Reservoir Area (square km)</th>\n",
       "      <td>0.002633</td>\n",
       "      <td>0.002954</td>\n",
       "      <td>1.000000</td>\n",
       "    </tr>\n",
       "  </tbody>\n",
       "</table>\n",
       "</div>"
      ],
      "text/plain": [
       "                                           Dam Height (meters)  \\\n",
       "Dam Height (meters)                                   1.000000   \n",
       "Reservoir Capacity (million cubic meters)             0.515656   \n",
       "Reservoir Area (square km)                            0.002633   \n",
       "\n",
       "                                           Reservoir Capacity (million cubic meters)  \\\n",
       "Dam Height (meters)                                                         0.515656   \n",
       "Reservoir Capacity (million cubic meters)                                   1.000000   \n",
       "Reservoir Area (square km)                                                  0.002954   \n",
       "\n",
       "                                           Reservoir Area (square km)  \n",
       "Dam Height (meters)                                          0.002633  \n",
       "Reservoir Capacity (million cubic meters)                    0.002954  \n",
       "Reservoir Area (square km)                                   1.000000  "
      ]
     },
     "execution_count": 27,
     "metadata": {},
     "output_type": "execute_result"
    }
   ],
   "source": [
    "data.iloc[: , [9, 10, 11]].corr()"
   ]
  },
  {
   "cell_type": "markdown",
   "metadata": {},
   "source": [
    "- There is no correlation between Reservoir Area and Reservoir Capacity. We can infer that Reservoir Capacity is not associated with Reservoir Area. We can infer that high reservoir capacity is not due to it's area but due to the depth of reservoir.<br> \n",
    "- There is little positive correlation between Dam Height and Reservoir Capacity, which to some extent supports the fact that deeper reservoirs tend to have higher dams. <br> <br>\n",
    "\n",
    "- <b>Note :</b> The data might be inconsistent with wrong entries, as on increasing Reservoir Area and Dam Height Reservoir Capacity(Volume) must also increase."
   ]
  },
  {
   "cell_type": "code",
   "execution_count": 30,
   "metadata": {},
   "outputs": [
    {
     "data": {
      "text/html": [
       "<div>\n",
       "<style scoped>\n",
       "    .dataframe tbody tr th:only-of-type {\n",
       "        vertical-align: middle;\n",
       "    }\n",
       "\n",
       "    .dataframe tbody tr th {\n",
       "        vertical-align: top;\n",
       "    }\n",
       "\n",
       "    .dataframe thead th {\n",
       "        text-align: right;\n",
       "    }\n",
       "</style>\n",
       "<table border=\"1\" class=\"dataframe\">\n",
       "  <thead>\n",
       "    <tr style=\"text-align: right;\">\n",
       "      <th></th>\n",
       "      <th>Country</th>\n",
       "      <th>ISO</th>\n",
       "      <th>Dam Name</th>\n",
       "      <th>Dam Purpose</th>\n",
       "      <th>Admin Unit(State)</th>\n",
       "      <th>Nearest City</th>\n",
       "      <th>River</th>\n",
       "      <th>Operational Since Year</th>\n",
       "      <th>PhotoVoltic Surface[MW]</th>\n",
       "      <th>Dam Height (meters)</th>\n",
       "      <th>Reservoir Capacity (million cubic meters)</th>\n",
       "      <th>Reservoir Area (square km)</th>\n",
       "    </tr>\n",
       "  </thead>\n",
       "  <tbody>\n",
       "    <tr>\n",
       "      <th>3033</th>\n",
       "      <td>India</td>\n",
       "      <td>IND</td>\n",
       "      <td>Tehri</td>\n",
       "      <td>Irrigation, Hydropower</td>\n",
       "      <td>Uttaranchal</td>\n",
       "      <td>Tehri</td>\n",
       "      <td>Bhagirathi</td>\n",
       "      <td>2005</td>\n",
       "      <td>0.42</td>\n",
       "      <td>260.5</td>\n",
       "      <td>2620.0</td>\n",
       "      <td>0.042</td>\n",
       "    </tr>\n",
       "  </tbody>\n",
       "</table>\n",
       "</div>"
      ],
      "text/plain": [
       "     Country  ISO Dam Name             Dam Purpose Admin Unit(State)  \\\n",
       "3033   India  IND    Tehri  Irrigation, Hydropower      Uttaranchal    \n",
       "\n",
       "     Nearest City       River Operational Since Year  PhotoVoltic Surface[MW]  \\\n",
       "3033        Tehri  Bhagirathi                   2005                     0.42   \n",
       "\n",
       "      Dam Height (meters)  Reservoir Capacity (million cubic meters)  \\\n",
       "3033                260.5                                     2620.0   \n",
       "\n",
       "      Reservoir Area (square km)  \n",
       "3033                       0.042  "
      ]
     },
     "execution_count": 30,
     "metadata": {},
     "output_type": "execute_result"
    }
   ],
   "source": [
    "data[data['Dam Name'] == 'Tehri']"
   ]
  },
  {
   "cell_type": "code",
   "execution_count": 37,
   "metadata": {},
   "outputs": [
    {
     "data": {
      "image/png": "[encoded data removed]",
      "text/plain": [
       "<Figure size 720x576 with 1 Axes>"
      ]
     },
     "metadata": {
      "needs_background": "light"
     },
     "output_type": "display_data"
    }
   ],
   "source": [
    "# Top 10 states with highest number of dams\n",
    "data['Admin Unit(State)'].value_counts().iloc[0:10].plot(\n",
    "    kind = 'barh', figsize = (10, 8), xticks = np.arange(0,1200, 100), grid = True)\n",
    "\n",
    "plt.xlabel('Number of Dams', fontsize = 16)\n",
    "plt.ylabel('Admin Unit (State)', fontsize = 16)\n",
    "plt.title('Top 10 States with highest number of dams', fontsize = 20)\n",
    "\n",
    "plt.show()"
   ]
  }
 ],
 "metadata": {
  "kernelspec": {
   "display_name": "Python 3",
   "language": "python",
   "name": "python3"
  },
  "language_info": {
   "codemirror_mode": {
    "name": "ipython",
    "version": 3
   },
   "file_extension": ".py",
   "mimetype": "text/x-python",
   "name": "python",
   "nbconvert_exporter": "python",
   "pygments_lexer": "ipython3",
   "version": "3.6.7"
  }
 },
 "nbformat": 4,
 "nbformat_minor": 2
}
