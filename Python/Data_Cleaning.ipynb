{
 "cells": [
  {
   "cell_type": "code",
   "execution_count": 1,
   "metadata": {},
   "outputs": [],
   "source": [
    "import numpy as np\n",
    "import pandas as pd\n",
    "\n",
    "import warnings\n",
    "warnings.filterwarnings('ignore')"
   ]
  },
  {
   "cell_type": "code",
   "execution_count": 2,
   "metadata": {},
   "outputs": [
    {
     "name": "stdout",
     "output_type": "stream",
     "text": [
      "WARNING *** OLE2 inconsistency: SSCS size is 0 but SSAT size is non-zero\n",
      "WARNING *** OLE2 inconsistency: SSCS size is 0 but SSAT size is non-zero\n",
      "WARNING *** OLE2 inconsistency: SSCS size is 0 but SSAT size is non-zero\n",
      "WARNING *** OLE2 inconsistency: SSCS size is 0 but SSAT size is non-zero\n"
     ]
    }
   ],
   "source": [
    "data1 = pd.read_excel('../DataSets/Principal_Commodity_Wise_Export/2014-2015.xls')\n",
    "data2 = pd.read_excel('../DataSets/Principal_Commodity_Wise_Export/2015-2016.xls')\n",
    "data3 = pd.read_excel('../DataSets/Principal_Commodity_Wise_Export/2016-2017.xls')\n",
    "data4 = pd.read_excel('../DataSets/Principal_Commodity_Wise_Export/2017-2018.xls')"
   ]
  },
  {
   "cell_type": "code",
   "execution_count": 3,
   "metadata": {},
   "outputs": [
    {
     "data": {
      "text/html": [
       "<div>\n",
       "<style scoped>\n",
       "    .dataframe tbody tr th:only-of-type {\n",
       "        vertical-align: middle;\n",
       "    }\n",
       "\n",
       "    .dataframe tbody tr th {\n",
       "        vertical-align: top;\n",
       "    }\n",
       "\n",
       "    .dataframe thead th {\n",
       "        text-align: right;\n",
       "    }\n",
       "</style>\n",
       "<table border=\"1\" class=\"dataframe\">\n",
       "  <thead>\n",
       "    <tr style=\"text-align: right;\">\n",
       "      <th></th>\n",
       "      <th>PC_CODE</th>\n",
       "      <th>PC_DESCRIPTION</th>\n",
       "      <th>UNIT</th>\n",
       "      <th>CTY_CODE</th>\n",
       "      <th>CTY_DESC</th>\n",
       "      <th>Qty</th>\n",
       "      <th>VAL(USD Million)</th>\n",
       "    </tr>\n",
       "  </thead>\n",
       "  <tbody>\n",
       "    <tr>\n",
       "      <th>0</th>\n",
       "      <td>99</td>\n",
       "      <td>OTHER COMMODITIES</td>\n",
       "      <td>NaN</td>\n",
       "      <td>599</td>\n",
       "      <td>UNSPECIFIED</td>\n",
       "      <td>NaN</td>\n",
       "      <td>371.280801</td>\n",
       "    </tr>\n",
       "    <tr>\n",
       "      <th>1</th>\n",
       "      <td>99</td>\n",
       "      <td>OTHER COMMODITIES</td>\n",
       "      <td>NaN</td>\n",
       "      <td>1213</td>\n",
       "      <td>KENYA</td>\n",
       "      <td>NaN</td>\n",
       "      <td>18.251164</td>\n",
       "    </tr>\n",
       "    <tr>\n",
       "      <th>2</th>\n",
       "      <td>99</td>\n",
       "      <td>OTHER COMMODITIES</td>\n",
       "      <td>NaN</td>\n",
       "      <td>1395</td>\n",
       "      <td>TANZANIA REP</td>\n",
       "      <td>NaN</td>\n",
       "      <td>21.844100</td>\n",
       "    </tr>\n",
       "    <tr>\n",
       "      <th>3</th>\n",
       "      <td>99</td>\n",
       "      <td>OTHER COMMODITIES</td>\n",
       "      <td>NaN</td>\n",
       "      <td>1417</td>\n",
       "      <td>UGANDA</td>\n",
       "      <td>NaN</td>\n",
       "      <td>8.034605</td>\n",
       "    </tr>\n",
       "    <tr>\n",
       "      <th>4</th>\n",
       "      <td>99</td>\n",
       "      <td>OTHER COMMODITIES</td>\n",
       "      <td>NaN</td>\n",
       "      <td>2035</td>\n",
       "      <td>BENIN</td>\n",
       "      <td>NaN</td>\n",
       "      <td>1.812666</td>\n",
       "    </tr>\n",
       "    <tr>\n",
       "      <th>5</th>\n",
       "      <td>99</td>\n",
       "      <td>OTHER COMMODITIES</td>\n",
       "      <td>NaN</td>\n",
       "      <td>2050</td>\n",
       "      <td>BURKINA FASO</td>\n",
       "      <td>NaN</td>\n",
       "      <td>0.388851</td>\n",
       "    </tr>\n",
       "    <tr>\n",
       "      <th>6</th>\n",
       "      <td>99</td>\n",
       "      <td>OTHER COMMODITIES</td>\n",
       "      <td>NaN</td>\n",
       "      <td>2057</td>\n",
       "      <td>CAMEROON</td>\n",
       "      <td>NaN</td>\n",
       "      <td>0.893831</td>\n",
       "    </tr>\n",
       "    <tr>\n",
       "      <th>7</th>\n",
       "      <td>99</td>\n",
       "      <td>OTHER COMMODITIES</td>\n",
       "      <td>NaN</td>\n",
       "      <td>2067</td>\n",
       "      <td>C AFRI REP</td>\n",
       "      <td>NaN</td>\n",
       "      <td>0.520453</td>\n",
       "    </tr>\n",
       "    <tr>\n",
       "      <th>8</th>\n",
       "      <td>99</td>\n",
       "      <td>OTHER COMMODITIES</td>\n",
       "      <td>NaN</td>\n",
       "      <td>2069</td>\n",
       "      <td>CHAD</td>\n",
       "      <td>NaN</td>\n",
       "      <td>0.008746</td>\n",
       "    </tr>\n",
       "    <tr>\n",
       "      <th>9</th>\n",
       "      <td>99</td>\n",
       "      <td>OTHER COMMODITIES</td>\n",
       "      <td>NaN</td>\n",
       "      <td>2087</td>\n",
       "      <td>CONGO P REP</td>\n",
       "      <td>NaN</td>\n",
       "      <td>1.305564</td>\n",
       "    </tr>\n",
       "  </tbody>\n",
       "</table>\n",
       "</div>"
      ],
      "text/plain": [
       "  PC_CODE     PC_DESCRIPTION UNIT  CTY_CODE      CTY_DESC  Qty  \\\n",
       "0      99  OTHER COMMODITIES  NaN       599   UNSPECIFIED  NaN   \n",
       "1      99  OTHER COMMODITIES  NaN      1213         KENYA  NaN   \n",
       "2      99  OTHER COMMODITIES  NaN      1395  TANZANIA REP  NaN   \n",
       "3      99  OTHER COMMODITIES  NaN      1417        UGANDA  NaN   \n",
       "4      99  OTHER COMMODITIES  NaN      2035         BENIN  NaN   \n",
       "5      99  OTHER COMMODITIES  NaN      2050  BURKINA FASO  NaN   \n",
       "6      99  OTHER COMMODITIES  NaN      2057      CAMEROON  NaN   \n",
       "7      99  OTHER COMMODITIES  NaN      2067    C AFRI REP  NaN   \n",
       "8      99  OTHER COMMODITIES  NaN      2069          CHAD  NaN   \n",
       "9      99  OTHER COMMODITIES  NaN      2087   CONGO P REP  NaN   \n",
       "\n",
       "   VAL(USD Million)  \n",
       "0        371.280801  \n",
       "1         18.251164  \n",
       "2         21.844100  \n",
       "3          8.034605  \n",
       "4          1.812666  \n",
       "5          0.388851  \n",
       "6          0.893831  \n",
       "7          0.520453  \n",
       "8          0.008746  \n",
       "9          1.305564  "
      ]
     },
     "execution_count": 3,
     "metadata": {},
     "output_type": "execute_result"
    }
   ],
   "source": [
    "# Checking head for 2014-2015\n",
    "data1.head(10)"
   ]
  },
  {
   "cell_type": "code",
   "execution_count": 4,
   "metadata": {},
   "outputs": [
    {
     "data": {
      "text/html": [
       "<div>\n",
       "<style scoped>\n",
       "    .dataframe tbody tr th:only-of-type {\n",
       "        vertical-align: middle;\n",
       "    }\n",
       "\n",
       "    .dataframe tbody tr th {\n",
       "        vertical-align: top;\n",
       "    }\n",
       "\n",
       "    .dataframe thead th {\n",
       "        text-align: right;\n",
       "    }\n",
       "</style>\n",
       "<table border=\"1\" class=\"dataframe\">\n",
       "  <thead>\n",
       "    <tr style=\"text-align: right;\">\n",
       "      <th></th>\n",
       "      <th>PC_CODE</th>\n",
       "      <th>PC_DESCRIPTION</th>\n",
       "      <th>UNIT</th>\n",
       "      <th>CTY_CODE</th>\n",
       "      <th>CTY_DESC</th>\n",
       "      <th>Qty</th>\n",
       "      <th>VAL(USD Million)</th>\n",
       "    </tr>\n",
       "  </thead>\n",
       "  <tbody>\n",
       "    <tr>\n",
       "      <th>0</th>\n",
       "      <td>99</td>\n",
       "      <td>OTHER COMMODITIES</td>\n",
       "      <td>NaN</td>\n",
       "      <td>599</td>\n",
       "      <td>UNSPECIFIED</td>\n",
       "      <td>NaN</td>\n",
       "      <td>159.558366</td>\n",
       "    </tr>\n",
       "    <tr>\n",
       "      <th>1</th>\n",
       "      <td>99</td>\n",
       "      <td>OTHER COMMODITIES</td>\n",
       "      <td>NaN</td>\n",
       "      <td>1213</td>\n",
       "      <td>KENYA</td>\n",
       "      <td>NaN</td>\n",
       "      <td>16.088382</td>\n",
       "    </tr>\n",
       "    <tr>\n",
       "      <th>2</th>\n",
       "      <td>99</td>\n",
       "      <td>OTHER COMMODITIES</td>\n",
       "      <td>NaN</td>\n",
       "      <td>1395</td>\n",
       "      <td>TANZANIA REP</td>\n",
       "      <td>NaN</td>\n",
       "      <td>13.965870</td>\n",
       "    </tr>\n",
       "    <tr>\n",
       "      <th>3</th>\n",
       "      <td>99</td>\n",
       "      <td>OTHER COMMODITIES</td>\n",
       "      <td>NaN</td>\n",
       "      <td>1417</td>\n",
       "      <td>UGANDA</td>\n",
       "      <td>NaN</td>\n",
       "      <td>9.371726</td>\n",
       "    </tr>\n",
       "    <tr>\n",
       "      <th>4</th>\n",
       "      <td>99</td>\n",
       "      <td>OTHER COMMODITIES</td>\n",
       "      <td>NaN</td>\n",
       "      <td>2035</td>\n",
       "      <td>BENIN</td>\n",
       "      <td>NaN</td>\n",
       "      <td>1.564994</td>\n",
       "    </tr>\n",
       "    <tr>\n",
       "      <th>5</th>\n",
       "      <td>99</td>\n",
       "      <td>OTHER COMMODITIES</td>\n",
       "      <td>NaN</td>\n",
       "      <td>2050</td>\n",
       "      <td>BURKINA FASO</td>\n",
       "      <td>NaN</td>\n",
       "      <td>0.465861</td>\n",
       "    </tr>\n",
       "    <tr>\n",
       "      <th>6</th>\n",
       "      <td>99</td>\n",
       "      <td>OTHER COMMODITIES</td>\n",
       "      <td>NaN</td>\n",
       "      <td>2057</td>\n",
       "      <td>CAMEROON</td>\n",
       "      <td>NaN</td>\n",
       "      <td>0.465980</td>\n",
       "    </tr>\n",
       "    <tr>\n",
       "      <th>7</th>\n",
       "      <td>99</td>\n",
       "      <td>OTHER COMMODITIES</td>\n",
       "      <td>NaN</td>\n",
       "      <td>2067</td>\n",
       "      <td>C AFRI REP</td>\n",
       "      <td>NaN</td>\n",
       "      <td>0.173326</td>\n",
       "    </tr>\n",
       "    <tr>\n",
       "      <th>8</th>\n",
       "      <td>99</td>\n",
       "      <td>OTHER COMMODITIES</td>\n",
       "      <td>NaN</td>\n",
       "      <td>2069</td>\n",
       "      <td>CHAD</td>\n",
       "      <td>NaN</td>\n",
       "      <td>0.141277</td>\n",
       "    </tr>\n",
       "    <tr>\n",
       "      <th>9</th>\n",
       "      <td>99</td>\n",
       "      <td>OTHER COMMODITIES</td>\n",
       "      <td>NaN</td>\n",
       "      <td>2087</td>\n",
       "      <td>CONGO P REP</td>\n",
       "      <td>NaN</td>\n",
       "      <td>1.564975</td>\n",
       "    </tr>\n",
       "  </tbody>\n",
       "</table>\n",
       "</div>"
      ],
      "text/plain": [
       "  PC_CODE     PC_DESCRIPTION UNIT  CTY_CODE      CTY_DESC  Qty  \\\n",
       "0      99  OTHER COMMODITIES  NaN       599   UNSPECIFIED  NaN   \n",
       "1      99  OTHER COMMODITIES  NaN      1213         KENYA  NaN   \n",
       "2      99  OTHER COMMODITIES  NaN      1395  TANZANIA REP  NaN   \n",
       "3      99  OTHER COMMODITIES  NaN      1417        UGANDA  NaN   \n",
       "4      99  OTHER COMMODITIES  NaN      2035         BENIN  NaN   \n",
       "5      99  OTHER COMMODITIES  NaN      2050  BURKINA FASO  NaN   \n",
       "6      99  OTHER COMMODITIES  NaN      2057      CAMEROON  NaN   \n",
       "7      99  OTHER COMMODITIES  NaN      2067    C AFRI REP  NaN   \n",
       "8      99  OTHER COMMODITIES  NaN      2069          CHAD  NaN   \n",
       "9      99  OTHER COMMODITIES  NaN      2087   CONGO P REP  NaN   \n",
       "\n",
       "   VAL(USD Million)  \n",
       "0        159.558366  \n",
       "1         16.088382  \n",
       "2         13.965870  \n",
       "3          9.371726  \n",
       "4          1.564994  \n",
       "5          0.465861  \n",
       "6          0.465980  \n",
       "7          0.173326  \n",
       "8          0.141277  \n",
       "9          1.564975  "
      ]
     },
     "execution_count": 4,
     "metadata": {},
     "output_type": "execute_result"
    }
   ],
   "source": [
    "# Checking head for 2015-2016\n",
    "data2.head(10)"
   ]
  },
  {
   "cell_type": "code",
   "execution_count": 5,
   "metadata": {},
   "outputs": [
    {
     "data": {
      "text/html": [
       "<div>\n",
       "<style scoped>\n",
       "    .dataframe tbody tr th:only-of-type {\n",
       "        vertical-align: middle;\n",
       "    }\n",
       "\n",
       "    .dataframe tbody tr th {\n",
       "        vertical-align: top;\n",
       "    }\n",
       "\n",
       "    .dataframe thead th {\n",
       "        text-align: right;\n",
       "    }\n",
       "</style>\n",
       "<table border=\"1\" class=\"dataframe\">\n",
       "  <thead>\n",
       "    <tr style=\"text-align: right;\">\n",
       "      <th></th>\n",
       "      <th>PC_CODE</th>\n",
       "      <th>PC_DESCRIPTION</th>\n",
       "      <th>UNIT</th>\n",
       "      <th>CTY_CODE</th>\n",
       "      <th>CTY_DESC</th>\n",
       "      <th>Qty</th>\n",
       "      <th>VAL(USD Million)</th>\n",
       "    </tr>\n",
       "  </thead>\n",
       "  <tbody>\n",
       "    <tr>\n",
       "      <th>0</th>\n",
       "      <td>99</td>\n",
       "      <td>OTHER COMMODITIES</td>\n",
       "      <td>NaN</td>\n",
       "      <td>599</td>\n",
       "      <td>UNSPECIFIED</td>\n",
       "      <td>NaN</td>\n",
       "      <td>270.889542</td>\n",
       "    </tr>\n",
       "    <tr>\n",
       "      <th>1</th>\n",
       "      <td>99</td>\n",
       "      <td>OTHER COMMODITIES</td>\n",
       "      <td>NaN</td>\n",
       "      <td>1213</td>\n",
       "      <td>KENYA</td>\n",
       "      <td>NaN</td>\n",
       "      <td>17.159452</td>\n",
       "    </tr>\n",
       "    <tr>\n",
       "      <th>2</th>\n",
       "      <td>99</td>\n",
       "      <td>OTHER COMMODITIES</td>\n",
       "      <td>NaN</td>\n",
       "      <td>1395</td>\n",
       "      <td>TANZANIA REP</td>\n",
       "      <td>NaN</td>\n",
       "      <td>8.896539</td>\n",
       "    </tr>\n",
       "    <tr>\n",
       "      <th>3</th>\n",
       "      <td>99</td>\n",
       "      <td>OTHER COMMODITIES</td>\n",
       "      <td>NaN</td>\n",
       "      <td>1417</td>\n",
       "      <td>UGANDA</td>\n",
       "      <td>NaN</td>\n",
       "      <td>5.181412</td>\n",
       "    </tr>\n",
       "    <tr>\n",
       "      <th>4</th>\n",
       "      <td>99</td>\n",
       "      <td>OTHER COMMODITIES</td>\n",
       "      <td>NaN</td>\n",
       "      <td>2035</td>\n",
       "      <td>BENIN</td>\n",
       "      <td>NaN</td>\n",
       "      <td>2.476015</td>\n",
       "    </tr>\n",
       "    <tr>\n",
       "      <th>5</th>\n",
       "      <td>99</td>\n",
       "      <td>OTHER COMMODITIES</td>\n",
       "      <td>NaN</td>\n",
       "      <td>2050</td>\n",
       "      <td>BURKINA FASO</td>\n",
       "      <td>NaN</td>\n",
       "      <td>0.452000</td>\n",
       "    </tr>\n",
       "    <tr>\n",
       "      <th>6</th>\n",
       "      <td>99</td>\n",
       "      <td>OTHER COMMODITIES</td>\n",
       "      <td>NaN</td>\n",
       "      <td>2057</td>\n",
       "      <td>CAMEROON</td>\n",
       "      <td>NaN</td>\n",
       "      <td>0.448168</td>\n",
       "    </tr>\n",
       "    <tr>\n",
       "      <th>7</th>\n",
       "      <td>99</td>\n",
       "      <td>OTHER COMMODITIES</td>\n",
       "      <td>NaN</td>\n",
       "      <td>2067</td>\n",
       "      <td>C AFRI REP</td>\n",
       "      <td>NaN</td>\n",
       "      <td>0.001924</td>\n",
       "    </tr>\n",
       "    <tr>\n",
       "      <th>8</th>\n",
       "      <td>99</td>\n",
       "      <td>OTHER COMMODITIES</td>\n",
       "      <td>NaN</td>\n",
       "      <td>2069</td>\n",
       "      <td>CHAD</td>\n",
       "      <td>NaN</td>\n",
       "      <td>0.004635</td>\n",
       "    </tr>\n",
       "    <tr>\n",
       "      <th>9</th>\n",
       "      <td>99</td>\n",
       "      <td>OTHER COMMODITIES</td>\n",
       "      <td>NaN</td>\n",
       "      <td>2087</td>\n",
       "      <td>CONGO P REP</td>\n",
       "      <td>NaN</td>\n",
       "      <td>1.747451</td>\n",
       "    </tr>\n",
       "  </tbody>\n",
       "</table>\n",
       "</div>"
      ],
      "text/plain": [
       "  PC_CODE     PC_DESCRIPTION UNIT  CTY_CODE      CTY_DESC  Qty  \\\n",
       "0      99  OTHER COMMODITIES  NaN       599   UNSPECIFIED  NaN   \n",
       "1      99  OTHER COMMODITIES  NaN      1213         KENYA  NaN   \n",
       "2      99  OTHER COMMODITIES  NaN      1395  TANZANIA REP  NaN   \n",
       "3      99  OTHER COMMODITIES  NaN      1417        UGANDA  NaN   \n",
       "4      99  OTHER COMMODITIES  NaN      2035         BENIN  NaN   \n",
       "5      99  OTHER COMMODITIES  NaN      2050  BURKINA FASO  NaN   \n",
       "6      99  OTHER COMMODITIES  NaN      2057      CAMEROON  NaN   \n",
       "7      99  OTHER COMMODITIES  NaN      2067    C AFRI REP  NaN   \n",
       "8      99  OTHER COMMODITIES  NaN      2069          CHAD  NaN   \n",
       "9      99  OTHER COMMODITIES  NaN      2087   CONGO P REP  NaN   \n",
       "\n",
       "   VAL(USD Million)  \n",
       "0        270.889542  \n",
       "1         17.159452  \n",
       "2          8.896539  \n",
       "3          5.181412  \n",
       "4          2.476015  \n",
       "5          0.452000  \n",
       "6          0.448168  \n",
       "7          0.001924  \n",
       "8          0.004635  \n",
       "9          1.747451  "
      ]
     },
     "execution_count": 5,
     "metadata": {},
     "output_type": "execute_result"
    }
   ],
   "source": [
    "# Checking head for 2016-2017\n",
    "data3.head(10)"
   ]
  },
  {
   "cell_type": "code",
   "execution_count": 6,
   "metadata": {},
   "outputs": [
    {
     "data": {
      "text/html": [
       "<div>\n",
       "<style scoped>\n",
       "    .dataframe tbody tr th:only-of-type {\n",
       "        vertical-align: middle;\n",
       "    }\n",
       "\n",
       "    .dataframe tbody tr th {\n",
       "        vertical-align: top;\n",
       "    }\n",
       "\n",
       "    .dataframe thead th {\n",
       "        text-align: right;\n",
       "    }\n",
       "</style>\n",
       "<table border=\"1\" class=\"dataframe\">\n",
       "  <thead>\n",
       "    <tr style=\"text-align: right;\">\n",
       "      <th></th>\n",
       "      <th>COMMODITY</th>\n",
       "      <th>UNIT_CODE</th>\n",
       "      <th>COUNTRY</th>\n",
       "      <th>QTY</th>\n",
       "      <th>VALUES (US$ million)</th>\n",
       "    </tr>\n",
       "  </thead>\n",
       "  <tbody>\n",
       "    <tr>\n",
       "      <th>0</th>\n",
       "      <td>TEA</td>\n",
       "      <td>KGS</td>\n",
       "      <td>AFGHANISTAN</td>\n",
       "      <td>996994.0</td>\n",
       "      <td>2.88</td>\n",
       "    </tr>\n",
       "    <tr>\n",
       "      <th>1</th>\n",
       "      <td>TEA</td>\n",
       "      <td>KGS</td>\n",
       "      <td>ALBANIA</td>\n",
       "      <td>250065.0</td>\n",
       "      <td>0.82</td>\n",
       "    </tr>\n",
       "    <tr>\n",
       "      <th>2</th>\n",
       "      <td>TEA</td>\n",
       "      <td>KGS</td>\n",
       "      <td>ALGERIA</td>\n",
       "      <td>109640.0</td>\n",
       "      <td>0.21</td>\n",
       "    </tr>\n",
       "    <tr>\n",
       "      <th>3</th>\n",
       "      <td>TEA</td>\n",
       "      <td>KGS</td>\n",
       "      <td>ANDORRA</td>\n",
       "      <td>32692.0</td>\n",
       "      <td>0.15</td>\n",
       "    </tr>\n",
       "    <tr>\n",
       "      <th>4</th>\n",
       "      <td>TEA</td>\n",
       "      <td>KGS</td>\n",
       "      <td>ANGOLA</td>\n",
       "      <td>11361.0</td>\n",
       "      <td>0.07</td>\n",
       "    </tr>\n",
       "    <tr>\n",
       "      <th>5</th>\n",
       "      <td>TEA</td>\n",
       "      <td>KGS</td>\n",
       "      <td>ARGENTINA</td>\n",
       "      <td>11.0</td>\n",
       "      <td>0.00</td>\n",
       "    </tr>\n",
       "    <tr>\n",
       "      <th>6</th>\n",
       "      <td>TEA</td>\n",
       "      <td>KGS</td>\n",
       "      <td>ARMENIA</td>\n",
       "      <td>2311.0</td>\n",
       "      <td>0.00</td>\n",
       "    </tr>\n",
       "    <tr>\n",
       "      <th>7</th>\n",
       "      <td>TEA</td>\n",
       "      <td>KGS</td>\n",
       "      <td>AUSTRALIA</td>\n",
       "      <td>3107210.0</td>\n",
       "      <td>17.25</td>\n",
       "    </tr>\n",
       "    <tr>\n",
       "      <th>8</th>\n",
       "      <td>TEA</td>\n",
       "      <td>KGS</td>\n",
       "      <td>AUSTRIA</td>\n",
       "      <td>1164.0</td>\n",
       "      <td>0.01</td>\n",
       "    </tr>\n",
       "    <tr>\n",
       "      <th>9</th>\n",
       "      <td>TEA</td>\n",
       "      <td>KGS</td>\n",
       "      <td>AZERBAIJAN</td>\n",
       "      <td>367209.0</td>\n",
       "      <td>1.24</td>\n",
       "    </tr>\n",
       "  </tbody>\n",
       "</table>\n",
       "</div>"
      ],
      "text/plain": [
       "  COMMODITY UNIT_CODE      COUNTRY        QTY  VALUES (US$ million)\n",
       "0       TEA       KGS  AFGHANISTAN   996994.0                  2.88\n",
       "1       TEA       KGS      ALBANIA   250065.0                  0.82\n",
       "2       TEA       KGS      ALGERIA   109640.0                  0.21\n",
       "3       TEA       KGS      ANDORRA    32692.0                  0.15\n",
       "4       TEA       KGS       ANGOLA    11361.0                  0.07\n",
       "5       TEA       KGS    ARGENTINA       11.0                  0.00\n",
       "6       TEA       KGS      ARMENIA     2311.0                  0.00\n",
       "7       TEA       KGS    AUSTRALIA  3107210.0                 17.25\n",
       "8       TEA       KGS      AUSTRIA     1164.0                  0.01\n",
       "9       TEA       KGS   AZERBAIJAN   367209.0                  1.24"
      ]
     },
     "execution_count": 6,
     "metadata": {},
     "output_type": "execute_result"
    }
   ],
   "source": [
    "# Checking head for 2017-2018\n",
    "data4.head(10)"
   ]
  },
  {
   "cell_type": "code",
   "execution_count": 7,
   "metadata": {},
   "outputs": [],
   "source": [
    "# Dropping PC_CODE and CTY_CODE column from first 3 tables\n",
    "data1.drop(labels = ['PC_CODE', 'CTY_CODE'], axis = 1, inplace = True)\n",
    "data2.drop(labels = ['PC_CODE', 'CTY_CODE'], axis = 1, inplace = True)\n",
    "data3.drop(labels = ['PC_CODE', 'CTY_CODE'], axis = 1, inplace = True)"
   ]
  },
  {
   "cell_type": "code",
   "execution_count": 8,
   "metadata": {},
   "outputs": [],
   "source": [
    "# Changing column names for first 3 tables to match column names in the fourth table\n",
    "cols = data4.columns\n",
    "data1.columns, data2.columns, data3.columns = cols, cols, cols"
   ]
  },
  {
   "cell_type": "code",
   "execution_count": 9,
   "metadata": {},
   "outputs": [
    {
     "data": {
      "text/html": [
       "<div>\n",
       "<style scoped>\n",
       "    .dataframe tbody tr th:only-of-type {\n",
       "        vertical-align: middle;\n",
       "    }\n",
       "\n",
       "    .dataframe tbody tr th {\n",
       "        vertical-align: top;\n",
       "    }\n",
       "\n",
       "    .dataframe thead th {\n",
       "        text-align: right;\n",
       "    }\n",
       "</style>\n",
       "<table border=\"1\" class=\"dataframe\">\n",
       "  <thead>\n",
       "    <tr style=\"text-align: right;\">\n",
       "      <th></th>\n",
       "      <th>COMMODITY</th>\n",
       "      <th>UNIT_CODE</th>\n",
       "      <th>COUNTRY</th>\n",
       "    </tr>\n",
       "  </thead>\n",
       "  <tbody>\n",
       "    <tr>\n",
       "      <th>count</th>\n",
       "      <td>20830</td>\n",
       "      <td>9924</td>\n",
       "      <td>20830</td>\n",
       "    </tr>\n",
       "    <tr>\n",
       "      <th>unique</th>\n",
       "      <td>168</td>\n",
       "      <td>5</td>\n",
       "      <td>233</td>\n",
       "    </tr>\n",
       "    <tr>\n",
       "      <th>top</th>\n",
       "      <td>OTHER COMMODITIES</td>\n",
       "      <td>KGS</td>\n",
       "      <td>U S A</td>\n",
       "    </tr>\n",
       "    <tr>\n",
       "      <th>freq</th>\n",
       "      <td>208</td>\n",
       "      <td>5381</td>\n",
       "      <td>160</td>\n",
       "    </tr>\n",
       "  </tbody>\n",
       "</table>\n",
       "</div>"
      ],
      "text/plain": [
       "                COMMODITY UNIT_CODE COUNTRY\n",
       "count               20830      9924   20830\n",
       "unique                168         5     233\n",
       "top     OTHER COMMODITIES       KGS   U S A\n",
       "freq                  208      5381     160"
      ]
     },
     "execution_count": 9,
     "metadata": {},
     "output_type": "execute_result"
    }
   ],
   "source": [
    "# Understanding the type of data in columns\n",
    "data1[['COMMODITY', 'UNIT_CODE', 'COUNTRY']].describe()"
   ]
  },
  {
   "cell_type": "markdown",
   "metadata": {},
   "source": [
    "From above table, we can see that 'COMMODITY', 'UNIT_TYPE' and 'COUNTRY' are categorical columns"
   ]
  },
  {
   "cell_type": "code",
   "execution_count": 10,
   "metadata": {},
   "outputs": [
    {
     "data": {
      "text/html": [
       "<div>\n",
       "<style scoped>\n",
       "    .dataframe tbody tr th:only-of-type {\n",
       "        vertical-align: middle;\n",
       "    }\n",
       "\n",
       "    .dataframe tbody tr th {\n",
       "        vertical-align: top;\n",
       "    }\n",
       "\n",
       "    .dataframe thead th {\n",
       "        text-align: right;\n",
       "    }\n",
       "</style>\n",
       "<table border=\"1\" class=\"dataframe\">\n",
       "  <thead>\n",
       "    <tr style=\"text-align: right;\">\n",
       "      <th></th>\n",
       "      <th>QTY</th>\n",
       "      <th>VALUES (US$ million)</th>\n",
       "    </tr>\n",
       "  </thead>\n",
       "  <tbody>\n",
       "    <tr>\n",
       "      <th>count</th>\n",
       "      <td>9.924000e+03</td>\n",
       "      <td>20830.000000</td>\n",
       "    </tr>\n",
       "    <tr>\n",
       "      <th>mean</th>\n",
       "      <td>3.731122e+06</td>\n",
       "      <td>14.899280</td>\n",
       "    </tr>\n",
       "    <tr>\n",
       "      <th>std</th>\n",
       "      <td>6.518345e+07</td>\n",
       "      <td>149.314062</td>\n",
       "    </tr>\n",
       "    <tr>\n",
       "      <th>min</th>\n",
       "      <td>0.000000e+00</td>\n",
       "      <td>0.000000</td>\n",
       "    </tr>\n",
       "    <tr>\n",
       "      <th>25%</th>\n",
       "      <td>1.540000e+02</td>\n",
       "      <td>0.028031</td>\n",
       "    </tr>\n",
       "    <tr>\n",
       "      <th>50%</th>\n",
       "      <td>5.658500e+03</td>\n",
       "      <td>0.324017</td>\n",
       "    </tr>\n",
       "    <tr>\n",
       "      <th>75%</th>\n",
       "      <td>1.708278e+05</td>\n",
       "      <td>2.969877</td>\n",
       "    </tr>\n",
       "    <tr>\n",
       "      <th>max</th>\n",
       "      <td>4.267870e+09</td>\n",
       "      <td>9439.054018</td>\n",
       "    </tr>\n",
       "  </tbody>\n",
       "</table>\n",
       "</div>"
      ],
      "text/plain": [
       "                QTY  VALUES (US$ million)\n",
       "count  9.924000e+03          20830.000000\n",
       "mean   3.731122e+06             14.899280\n",
       "std    6.518345e+07            149.314062\n",
       "min    0.000000e+00              0.000000\n",
       "25%    1.540000e+02              0.028031\n",
       "50%    5.658500e+03              0.324017\n",
       "75%    1.708278e+05              2.969877\n",
       "max    4.267870e+09           9439.054018"
      ]
     },
     "execution_count": 10,
     "metadata": {},
     "output_type": "execute_result"
    }
   ],
   "source": [
    "data1[['QTY', 'VALUES (US$ million)']].describe()"
   ]
  },
  {
   "cell_type": "markdown",
   "metadata": {},
   "source": [
    "From above table, we can see that 'QTY' is Discrete(Numerical) and 'VALUES (US$ million)' is Continous(Numerical) column"
   ]
  },
  {
   "cell_type": "code",
   "execution_count": 11,
   "metadata": {},
   "outputs": [
    {
     "data": {
      "text/plain": [
       "COMMODITY                   0\n",
       "UNIT_CODE               10906\n",
       "COUNTRY                     0\n",
       "QTY                     10906\n",
       "VALUES (US$ million)        0\n",
       "dtype: int64"
      ]
     },
     "execution_count": 11,
     "metadata": {},
     "output_type": "execute_result"
    }
   ],
   "source": [
    "# Checking null values in all the tables\n",
    "data1.isnull().sum()"
   ]
  },
  {
   "cell_type": "code",
   "execution_count": 12,
   "metadata": {},
   "outputs": [
    {
     "data": {
      "text/plain": [
       "COMMODITY                   0\n",
       "UNIT_CODE               10779\n",
       "COUNTRY                     0\n",
       "QTY                     10779\n",
       "VALUES (US$ million)        0\n",
       "dtype: int64"
      ]
     },
     "execution_count": 12,
     "metadata": {},
     "output_type": "execute_result"
    }
   ],
   "source": [
    "data2.isnull().sum()"
   ]
  },
  {
   "cell_type": "code",
   "execution_count": 13,
   "metadata": {},
   "outputs": [
    {
     "data": {
      "text/plain": [
       "COMMODITY                   0\n",
       "UNIT_CODE               10779\n",
       "COUNTRY                     0\n",
       "QTY                     10779\n",
       "VALUES (US$ million)        0\n",
       "dtype: int64"
      ]
     },
     "execution_count": 13,
     "metadata": {},
     "output_type": "execute_result"
    }
   ],
   "source": [
    "data3.isnull().sum()"
   ]
  },
  {
   "cell_type": "markdown",
   "metadata": {},
   "source": [
    "For first 3 tables, UNIT_CODE and QTY columns have null values. It means that for a commodity with unknown units the quantity exported is also unknown, which kinda make sense."
   ]
  },
  {
   "cell_type": "code",
   "execution_count": 14,
   "metadata": {},
   "outputs": [
    {
     "data": {
      "text/plain": [
       "COMMODITY                   0\n",
       "UNIT_CODE                   1\n",
       "COUNTRY                     1\n",
       "QTY                     11478\n",
       "VALUES (US$ million)        0\n",
       "dtype: int64"
      ]
     },
     "execution_count": 14,
     "metadata": {},
     "output_type": "execute_result"
    }
   ],
   "source": [
    "data4.isnull().sum()"
   ]
  },
  {
   "cell_type": "markdown",
   "metadata": {},
   "source": [
    "In the fourth table UNIT_CODE has only 1 null value while QTY has 11478 null values. This is different from the pattern we saw in first 3 tables. It is important to visually inspect or check the value counts for columns in order to understand which value is null but python is interpreting it as a string.  "
   ]
  },
  {
   "cell_type": "code",
   "execution_count": 15,
   "metadata": {},
   "outputs": [
    {
     "data": {
      "text/plain": [
       "N .A    11477\n",
       "KGS      5394\n",
       "TON      3818\n",
       "NOS       484\n",
       "SQM       295\n",
       "LTR       112\n",
       "Name: UNIT_CODE, dtype: int64"
      ]
     },
     "execution_count": 15,
     "metadata": {},
     "output_type": "execute_result"
    }
   ],
   "source": [
    "data4['UNIT_CODE'].value_counts()"
   ]
  },
  {
   "cell_type": "markdown",
   "metadata": {},
   "source": [
    "As expected, there is a value 'N .A' which is null but python is intrepreting it as a string and so is is not comming in the null count. We will replace this value with null."
   ]
  },
  {
   "cell_type": "code",
   "execution_count": 16,
   "metadata": {},
   "outputs": [],
   "source": [
    "# Replacing N .A with null in UNIT_CODE column for fourth table\n",
    "data4['UNIT_CODE'].replace(to_replace = data4['UNIT_CODE'].value_counts().index[0], value = np.nan, inplace = True)"
   ]
  },
  {
   "cell_type": "code",
   "execution_count": 17,
   "metadata": {},
   "outputs": [
    {
     "data": {
      "text/plain": [
       "COMMODITY                   0\n",
       "UNIT_CODE               11478\n",
       "COUNTRY                     1\n",
       "QTY                     11478\n",
       "VALUES (US$ million)        0\n",
       "dtype: int64"
      ]
     },
     "execution_count": 17,
     "metadata": {},
     "output_type": "execute_result"
    }
   ],
   "source": [
    "# Checking null value in fourth table\n",
    "data4.isnull().sum()"
   ]
  },
  {
   "cell_type": "markdown",
   "metadata": {},
   "source": [
    "We can still see a null value in COUNTRY column. So let's see the row for which COUNTRY column has null value. "
   ]
  },
  {
   "cell_type": "code",
   "execution_count": 18,
   "metadata": {},
   "outputs": [
    {
     "data": {
      "text/html": [
       "<div>\n",
       "<style scoped>\n",
       "    .dataframe tbody tr th:only-of-type {\n",
       "        vertical-align: middle;\n",
       "    }\n",
       "\n",
       "    .dataframe tbody tr th {\n",
       "        vertical-align: top;\n",
       "    }\n",
       "\n",
       "    .dataframe thead th {\n",
       "        text-align: right;\n",
       "    }\n",
       "</style>\n",
       "<table border=\"1\" class=\"dataframe\">\n",
       "  <thead>\n",
       "    <tr style=\"text-align: right;\">\n",
       "      <th></th>\n",
       "      <th>COMMODITY</th>\n",
       "      <th>UNIT_CODE</th>\n",
       "      <th>COUNTRY</th>\n",
       "      <th>QTY</th>\n",
       "      <th>VALUES (US$ million)</th>\n",
       "    </tr>\n",
       "  </thead>\n",
       "  <tbody>\n",
       "    <tr>\n",
       "      <th>21580</th>\n",
       "      <td>Total</td>\n",
       "      <td>NaN</td>\n",
       "      <td>NaN</td>\n",
       "      <td>NaN</td>\n",
       "      <td>303523.19</td>\n",
       "    </tr>\n",
       "  </tbody>\n",
       "</table>\n",
       "</div>"
      ],
      "text/plain": [
       "      COMMODITY UNIT_CODE COUNTRY  QTY  VALUES (US$ million)\n",
       "21580     Total       NaN     NaN  NaN             303523.19"
      ]
     },
     "execution_count": 18,
     "metadata": {},
     "output_type": "execute_result"
    }
   ],
   "source": [
    "data4[data4['COUNTRY'].isnull()]"
   ]
  },
  {
   "cell_type": "markdown",
   "metadata": {},
   "source": [
    "There is a row which shows the total revenue. We don't need it and so we drop it. "
   ]
  },
  {
   "cell_type": "code",
   "execution_count": 19,
   "metadata": {},
   "outputs": [],
   "source": [
    "data4.drop(labels = 21580, axis = 0, inplace = True)"
   ]
  },
  {
   "cell_type": "code",
   "execution_count": 20,
   "metadata": {},
   "outputs": [],
   "source": [
    "# Changing QTY from KGS to TON, dividing all quantities having unit KGS by 1000 to convert to TON in QTY column.\n",
    "data1['QTY'] = data1[['UNIT_CODE', 'QTY']].apply(lambda x : x[1]/1000 if x[0] == 'KGS' else x[1], axis = 1)\n",
    "data2['QTY'] = data2[['UNIT_CODE', 'QTY']].apply(lambda x : x[1]/1000 if x[0] == 'KGS' else x[1], axis = 1)\n",
    "data3['QTY'] = data3[['UNIT_CODE', 'QTY']].apply(lambda x : x[1]/1000 if x[0] == 'KGS' else x[1], axis = 1)\n",
    "data4['QTY'] = data4[['UNIT_CODE', 'QTY']].apply(lambda x : x[1]/1000 if x[0] == 'KGS' else x[1], axis = 1)\n",
    "\n",
    "# Changing KGS to TON in UNIT_CODE column\n",
    "data1['UNIT_CODE'].replace(to_replace = 'KGS', value = 'TON', inplace = True)\n",
    "data2['UNIT_CODE'].replace(to_replace = 'KGS', value = 'TON', inplace = True)\n",
    "data3['UNIT_CODE'].replace(to_replace = 'KGS', value = 'TON', inplace = True)\n",
    "data4['UNIT_CODE'].replace(to_replace = 'KGS', value = 'TON', inplace = True)"
   ]
  },
  {
   "cell_type": "code",
   "execution_count": 21,
   "metadata": {},
   "outputs": [
    {
     "data": {
      "text/plain": [
       "TON    9052\n",
       "NOS     467\n",
       "SQM     294\n",
       "LTR     111\n",
       "Name: UNIT_CODE, dtype: int64"
      ]
     },
     "execution_count": 21,
     "metadata": {},
     "output_type": "execute_result"
    }
   ],
   "source": [
    "data1['UNIT_CODE'].value_counts()"
   ]
  },
  {
   "cell_type": "markdown",
   "metadata": {},
   "source": [
    "<h5> Now all 4 dataframes are cleaned and are just having null values in UNIT_CODE and QTY columns. </h5> "
   ]
  },
  {
   "cell_type": "code",
   "execution_count": 22,
   "metadata": {},
   "outputs": [],
   "source": [
    "# Exporting all four dataframes into csv files\n",
    "data1.to_csv('../DataSets/Principal_Commodity_Wise_Export/2014-2015.csv', index = False)\n",
    "data2.to_csv('../DataSets/Principal_Commodity_Wise_Export/2015-2016.csv', index = False)\n",
    "data3.to_csv('../DataSets/Principal_Commodity_Wise_Export/2016-2017.csv', index = False)\n",
    "data4.to_csv('../DataSets/Principal_Commodity_Wise_Export/2017-2018.csv', index = False)"
   ]
  }
 ],
 "metadata": {
  "kernelspec": {
   "display_name": "Python 3",
   "language": "python",
   "name": "python3"
  },
  "language_info": {
   "codemirror_mode": {
    "name": "ipython",
    "version": 3
   },
   "file_extension": ".py",
   "mimetype": "text/x-python",
   "name": "python",
   "nbconvert_exporter": "python",
   "pygments_lexer": "ipython3",
   "version": "3.6.7"
  }
 },
 "nbformat": 4,
 "nbformat_minor": 2
}
